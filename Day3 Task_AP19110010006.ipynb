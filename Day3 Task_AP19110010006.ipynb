{
 "cells": [
  {
   "cell_type": "markdown",
   "metadata": {},
   "source": [
    "**Day 3 Task:**"
   ]
  },
  {
   "cell_type": "markdown",
   "metadata": {},
   "source": [
    "Name:Likhitha Tadikonda\n",
    "Branch:CSE 3rd Year"
   ]
  },
  {
   "cell_type": "markdown",
   "metadata": {},
   "source": [
    "**1.Take last 3 digits of roll number (format:AP19110010006)**\n",
    "* if value starts with \"01\" -- CSE Dept\n",
    "* elif value starts with \"11\" -- IT Dept\n",
    "* elif value starts with \"21\" -- ECE Dept\n",
    "* else Student is nit an SRM Student\n"
   ]
  },
  {
   "cell_type": "code",
   "execution_count": 32,
   "metadata": {},
   "outputs": [
    {
     "name": "stdout",
     "output_type": "stream",
     "text": [
      "Enter your roll number: AP19110010006\n",
      "Student doesn't belong to SRM\n"
     ]
    }
   ],
   "source": [
    "r_no=str(input('Enter your roll number: '))  #fomat:AP191*********\n",
    "r_no[-3:]\n",
    "\n",
    "if r_no[-3:].startswith('01'):\n",
    "    print('Student belongs to CSE Dept')\n",
    "elif r_no[-3:].startswith('11'):\n",
    "    print('Student belongs to IT Dept')\n",
    "elif r_no[-3:].startswith('21'):\n",
    "    print('Student belongs to ECE Dept')\n",
    "else:\n",
    "    print(\"Student doesn't belong to SRM\")\n"
   ]
  },
  {
   "cell_type": "markdown",
   "metadata": {},
   "source": [
    "**2.Find all leap years between 1800 to 2020**"
   ]
  },
  {
   "cell_type": "code",
   "execution_count": 28,
   "metadata": {},
   "outputs": [
    {
     "name": "stdout",
     "output_type": "stream",
     "text": [
      "1804\t1808\t1812\t1816\t1820\t1824\t1828\t1832\t1836\t1840\t1844\t1848\t1852\t1856\t1860\t1864\t1868\t1872\t1876\t1880\t1884\t1888\t1892\t1896\t1904\t1908\t1912\t1916\t1920\t1924\t1928\t1932\t1936\t1940\t1944\t1948\t1952\t1956\t1960\t1964\t1968\t1972\t1976\t1980\t1984\t1988\t1992\t1996\t2000\t2004\t2008\t2012\t2016\t2020\t"
     ]
    }
   ],
   "source": [
    "for Year in range(1800,2021):\n",
    "    if (Year%4== 0 and Year%100!=0) or(Year%400==0):      ##leap year is divisible by 4\n",
    "        print(Year,end='\\t')\n",
    "        "
   ]
  },
  {
   "cell_type": "code",
   "execution_count": null,
   "metadata": {},
   "outputs": [],
   "source": []
  }
 ],
 "metadata": {
  "kernelspec": {
   "display_name": "Python 3",
   "language": "python",
   "name": "python3"
  },
  "language_info": {
   "codemirror_mode": {
    "name": "ipython",
    "version": 3
   },
   "file_extension": ".py",
   "mimetype": "text/x-python",
   "name": "python",
   "nbconvert_exporter": "python",
   "pygments_lexer": "ipython3",
   "version": "3.7.3"
  }
 },
 "nbformat": 4,
 "nbformat_minor": 2
}
