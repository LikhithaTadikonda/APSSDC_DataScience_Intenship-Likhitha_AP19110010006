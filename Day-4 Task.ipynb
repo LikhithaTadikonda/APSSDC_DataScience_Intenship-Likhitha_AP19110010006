{
 "cells": [
  {
   "cell_type": "markdown",
   "metadata": {},
   "source": [
    "# Day4 Task:"
   ]
  },
  {
   "cell_type": "markdown",
   "metadata": {},
   "source": [
    "* 1.Take input from the user \n",
    "    * Check if the length of the string is even or odd\n",
    "    * If odd: access one middle character\n",
    "    * If even:access two middle characters"
   ]
  },
  {
   "cell_type": "code",
   "execution_count": 63,
   "metadata": {},
   "outputs": [
    {
     "name": "stdout",
     "output_type": "stream",
     "text": [
      "Enter string: Likhitha\n",
      "The 2 middle characters are: \n",
      "hi\n"
     ]
    }
   ],
   "source": [
    "def middle(s):\n",
    "    if (len(s) == 0):\n",
    "        return print(\"No Text Here\")\n",
    "    elif (len(s) % 2 != 0):           #Odd->return 1 middle char\n",
    "        print(\"The middle character is: \")\n",
    "        return s[len(s)//2]\n",
    "    elif (len(s) % 2 == 0):           #Even->return 2 middle chars\n",
    "        print(\"The 2 middle characters are: \")\n",
    "        return s[len(s)//2 - 1] + s[len(s)//2]\n",
    "\n",
    "s=input(\"Enter string: \")\n",
    "print(middle(s))"
   ]
  },
  {
   "cell_type": "code",
   "execution_count": 64,
   "metadata": {},
   "outputs": [
    {
     "name": "stdout",
     "output_type": "stream",
     "text": [
      "Enter string: Likhith\n",
      "The middle character is: \n",
      "h\n"
     ]
    }
   ],
   "source": [
    "def middle(s):\n",
    "    if (len(s) == 0):\n",
    "        return print(\"No Text Here\")\n",
    "    elif (len(s) % 2 != 0):           #Odd->return 1 middle char\n",
    "        print(\"The middle character is: \")\n",
    "        return s[len(s)//2]\n",
    "    elif (len(s) % 2 == 0):           #Even->return 2 middle chars\n",
    "        print(\"The 2 middle characters are: \")\n",
    "        return s[len(s)//2 - 1] + s[len(s)//2]\n",
    "\n",
    "s=input(\"Enter string: \")\n",
    "print(middle(s))"
   ]
  },
  {
   "cell_type": "code",
   "execution_count": 65,
   "metadata": {},
   "outputs": [
    {
     "name": "stdout",
     "output_type": "stream",
     "text": [
      "Enter string: \n",
      "No Text Here\n",
      "None\n"
     ]
    }
   ],
   "source": [
    "def middle(s):\n",
    "    if (len(s) == 0):\n",
    "        return print(\"No Text Here\")\n",
    "    elif (len(s) % 2 != 0):           #Odd->return 1 middle char\n",
    "        print(\"The middle character is: \")\n",
    "        return s[len(s)//2]\n",
    "    elif (len(s) % 2 == 0):           #Even->return 2 middle chars\n",
    "        print(\"The 2 middle characters are: \")\n",
    "        return s[len(s)//2 - 1] + s[len(s)//2]\n",
    "\n",
    "s=input(\"Enter string: \")\n",
    "print(middle(s))"
   ]
  },
  {
   "cell_type": "code",
   "execution_count": null,
   "metadata": {},
   "outputs": [],
   "source": []
  }
 ],
 "metadata": {
  "kernelspec": {
   "display_name": "Python 3",
   "language": "python",
   "name": "python3"
  },
  "language_info": {
   "codemirror_mode": {
    "name": "ipython",
    "version": 3
   },
   "file_extension": ".py",
   "mimetype": "text/x-python",
   "name": "python",
   "nbconvert_exporter": "python",
   "pygments_lexer": "ipython3",
   "version": "3.7.3"
  }
 },
 "nbformat": 4,
 "nbformat_minor": 2
}
