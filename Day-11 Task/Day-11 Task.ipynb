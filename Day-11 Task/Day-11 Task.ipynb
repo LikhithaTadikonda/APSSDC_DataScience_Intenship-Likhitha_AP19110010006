{
 "cells": [
  {
   "cell_type": "markdown",
   "metadata": {},
   "source": [
    "### 1.write a program for getting the last five line from the file."
   ]
  },
  {
   "cell_type": "code",
   "execution_count": 15,
   "metadata": {},
   "outputs": [
    {
     "name": "stdout",
     "output_type": "stream",
     "text": [
      "Line 1 \n",
      "Line 2  \n",
      "Line 3  \n",
      "Line 4  \n",
      "Line 5  \n",
      "\n"
     ]
    }
   ],
   "source": [
    "#creating the file using wirte method\n",
    "#adding lines to the file\n",
    "f = open(\"file1.txt\",'w')\n",
    "f.write(\"Line 1 \\n\")\n",
    "f.write(\"Line 2  \\n\")\n",
    "f.write(\"Line 3  \\n\")\n",
    "f.write(\"Line 4  \\n\")\n",
    "f.write(\"Line 5  \\n\")\n",
    "\n",
    "#read the file\n",
    "f = open('file1.txt')\n",
    "print(f.read())\n",
    "f.close()"
   ]
  },
  {
   "cell_type": "code",
   "execution_count": 16,
   "metadata": {},
   "outputs": [
    {
     "name": "stdout",
     "output_type": "stream",
     "text": [
      "['Line 1 \\n', 'Line 2  \\n', 'Line 3  \\n', 'Line 4  \\n', 'Line 5  \\n']\n"
     ]
    }
   ],
   "source": [
    "#printing the last five line from the file\n",
    "f = open(\"file1.txt\", \"r\")\n",
    "l = f.readlines()\n",
    "l_l = l[-5:]\n",
    "\n",
    "print(l_l)\n",
    "f.close()"
   ]
  },
  {
   "cell_type": "markdown",
   "metadata": {},
   "source": [
    "### 2.Create a function for appending the data into the file."
   ]
  },
  {
   "cell_type": "code",
   "execution_count": 24,
   "metadata": {},
   "outputs": [
    {
     "name": "stdout",
     "output_type": "stream",
     "text": [
      "Elephant \n",
      "Frog \n",
      "Rat \n",
      "\n"
     ]
    }
   ],
   "source": [
    "f = open('file2.txt','w')\n",
    "f.write(\"Elephant \\n\")\n",
    "f.write(\"Frog \\n\")\n",
    "f.write(\"Rat \\n\")\n",
    "f.close()\n",
    "\n",
    "f = open('file2.txt')\n",
    "print(f.read())\n",
    "f.close()"
   ]
  },
  {
   "cell_type": "code",
   "execution_count": 25,
   "metadata": {},
   "outputs": [
    {
     "name": "stdout",
     "output_type": "stream",
     "text": [
      "Elephant \n",
      "Frog \n",
      "Rat \n",
      "Panda \n",
      "Hamster \n",
      "\n"
     ]
    }
   ],
   "source": [
    "#creating function to append the data \n",
    "def append():\n",
    "    f=open('file2.txt', 'a+')\n",
    "    f.write(\"Panda \\n\")\n",
    "    f.write(\"Hamster \\n\") \n",
    "    f.close()\n",
    "    \n",
    "append()\n",
    "\n",
    "f = open('file2.txt')\n",
    "print(f.read())\n",
    "f.close()"
   ]
  },
  {
   "cell_type": "markdown",
   "metadata": {},
   "source": [
    "### 3.create a program for updating a word in the file"
   ]
  },
  {
   "cell_type": "code",
   "execution_count": 37,
   "metadata": {},
   "outputs": [
    {
     "name": "stdout",
     "output_type": "stream",
     "text": [
      "Elephant \n",
      "Frog \n",
      "Rat \n",
      "PANDA \n",
      "Hamster \n",
      "\n"
     ]
    }
   ],
   "source": [
    "import re\n",
    "with open('file2.txt',\"r+\") as f:\n",
    "    text = f.read()\n",
    "    text = re.sub('Panda', 'PANDA', text)     #changed Panda to PANDA.\n",
    "    f.seek(0)\n",
    "    f.write(text)\n",
    "    f.truncate()\n",
    "    \n",
    "#reading the file\n",
    "f = open('file2.txt')\n",
    "print(f.read())"
   ]
  },
  {
   "cell_type": "code",
   "execution_count": null,
   "metadata": {},
   "outputs": [],
   "source": []
  }
 ],
 "metadata": {
  "kernelspec": {
   "display_name": "Python 3",
   "language": "python",
   "name": "python3"
  },
  "language_info": {
   "codemirror_mode": {
    "name": "ipython",
    "version": 3
   },
   "file_extension": ".py",
   "mimetype": "text/x-python",
   "name": "python",
   "nbconvert_exporter": "python",
   "pygments_lexer": "ipython3",
   "version": "3.7.3"
  }
 },
 "nbformat": 4,
 "nbformat_minor": 2
}
