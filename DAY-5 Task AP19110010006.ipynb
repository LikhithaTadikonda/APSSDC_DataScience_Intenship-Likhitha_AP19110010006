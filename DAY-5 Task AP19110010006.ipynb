{
 "cells": [
  {
   "cell_type": "markdown",
   "metadata": {},
   "source": [
    "## DAY-5 Task:\n",
    "* Write a Python program to convert a list of characters into a string\n",
    "* program to put even and odd elements in a list into two different lists\n",
    "* Write a Python program to remove duplicates from a list\n",
    "* Write a Python program to check a list is empty or not.\n",
    "* Write a Python program to print a specified list after removing the 0th, 4th and 5th elements.\n",
    "\n",
    "## At HomeTask:\n",
    "* Write a Python that takes two lists and returns True if they have at least one common member."
   ]
  },
  {
   "cell_type": "markdown",
   "metadata": {},
   "source": [
    "### 1.Write a Python program to convert a list of characters into a string\n",
    "##### input : [\"i\",\"am\",\"very\",\"good\"]\n",
    "##### output : \"i am very good\""
   ]
  },
  {
   "cell_type": "code",
   "execution_count": 1,
   "metadata": {},
   "outputs": [
    {
     "data": {
      "text/plain": [
       "'i am very good '"
      ]
     },
     "execution_count": 1,
     "metadata": {},
     "output_type": "execute_result"
    }
   ],
   "source": [
    "arr = [\"i \",\"am \",\"very \",\"good \"]\n",
    "\"\".join(arr)"
   ]
  },
  {
   "cell_type": "markdown",
   "metadata": {},
   "source": [
    "### 2.program to put even and odd elements in a list into two different lists"
   ]
  },
  {
   "cell_type": "code",
   "execution_count": 84,
   "metadata": {},
   "outputs": [
    {
     "name": "stdout",
     "output_type": "stream",
     "text": [
      "[11, 33, 55, 77]\n",
      "[22, 44, 66, 88]\n"
     ]
    }
   ],
   "source": [
    "##Method1:\n",
    "a=[1,2,3,4,5,6,7,8,9]\n",
    "a = [11,22,33,44,55,66,77,88]\n",
    "print(a[::2])\n",
    "print(a[1::2])"
   ]
  },
  {
   "cell_type": "code",
   "execution_count": 85,
   "metadata": {},
   "outputs": [],
   "source": [
    "##Method2:\n",
    "nums = [11,12,13,14,15,16,17,18,19,20]\n",
    "evens = []\n",
    "odds = []\n",
    "\n",
    "for i in nums:\n",
    "    if i%2==0:\n",
    "        evens.append(i)\n",
    "    else:\n",
    "        odds.append(i)"
   ]
  },
  {
   "cell_type": "code",
   "execution_count": 86,
   "metadata": {},
   "outputs": [
    {
     "data": {
      "text/plain": [
       "[12, 14, 16, 18, 20]"
      ]
     },
     "execution_count": 86,
     "metadata": {},
     "output_type": "execute_result"
    }
   ],
   "source": [
    "evens"
   ]
  },
  {
   "cell_type": "code",
   "execution_count": 87,
   "metadata": {},
   "outputs": [
    {
     "data": {
      "text/plain": [
       "[11, 13, 15, 17, 19]"
      ]
     },
     "execution_count": 87,
     "metadata": {},
     "output_type": "execute_result"
    }
   ],
   "source": [
    "odds"
   ]
  },
  {
   "cell_type": "code",
   "execution_count": 10,
   "metadata": {},
   "outputs": [
    {
     "name": "stdout",
     "output_type": "stream",
     "text": [
      "Enter the number of elements: 6\n",
      "Enter a number: 1\n",
      "Enter a number: 2\n",
      "Enter a number: 3\n",
      "Enter a number: 4\n",
      "Enter a number: 5\n",
      "Enter a number: 6\n",
      "[0, 2, 4]\n",
      "[1, 3, 5]\n"
     ]
    }
   ],
   "source": [
    "##Method3:\n",
    "a=int(input(\"Enter the number of elements: \"))\n",
    "li=[]\n",
    "eli=[]\n",
    "oli=[]\n",
    "for b in range(a):\n",
    "    c=int(input(\"Enter a number: \"))\n",
    "    li.append(c)\n",
    "for ele in range(len(li)):\n",
    "    if ele%2==0:\n",
    "        eli.append(ele)\n",
    "    else:\n",
    "        oli.append(ele)\n",
    "        \n",
    "print(eli)\n",
    "print(oli)"
   ]
  },
  {
   "cell_type": "code",
   "execution_count": 88,
   "metadata": {},
   "outputs": [
    {
     "name": "stdout",
     "output_type": "stream",
     "text": [
      "Even Elements of l1:  [9, 7, 5, 3, 1]\n",
      "Odd Elements of l2:  [8, 6, 4, 2]\n"
     ]
    }
   ],
   "source": [
    "##Method4:\n",
    "l1 = [9,8,7,6,5,4,3,2,1]\n",
    "leven = l1[::2]\n",
    "lodd = l1[1::2]\n",
    "print(\"Even Elements of l1: \",leven)\n",
    "print(\"Odd Elements of l2: \",lodd)"
   ]
  },
  {
   "cell_type": "markdown",
   "metadata": {},
   "source": [
    "### 3.Write a Python program to remove duplicates from a list"
   ]
  },
  {
   "cell_type": "code",
   "execution_count": 12,
   "metadata": {},
   "outputs": [
    {
     "name": "stdout",
     "output_type": "stream",
     "text": [
      "Enter the number of elements: 6\n",
      "Enter a number: 1\n",
      "Enter a number: 1\n",
      "Enter a number: 2\n",
      "Enter a number: 3\n",
      "Enter a number: 5\n",
      "Enter a number: 6\n",
      "[0, 1, 2, 3, 4, 5]\n"
     ]
    }
   ],
   "source": [
    "##Method1:\n",
    "a= int(input(\"Enter the number of elements: \"))\n",
    "li=[]\n",
    "li2=[]\n",
    "for b in range(a):\n",
    "    c=input(\"Enter a number: \")\n",
    "    li.append(c)\n",
    "for ele in range(len(li)):\n",
    "    if (ele not in li):\n",
    "        li2.append(ele)\n",
    "print(li2)"
   ]
  },
  {
   "cell_type": "code",
   "execution_count": 89,
   "metadata": {},
   "outputs": [
    {
     "name": "stdout",
     "output_type": "stream",
     "text": [
      "List Before:  [4, 3, 2, 1, 4, 3, 2, 1, 0, 1]\n",
      "List After removing duplicates:  [4, 3, 2, 1, 0]\n"
     ]
    }
   ],
   "source": [
    "##Method2:\n",
    "l1 = [4, 3, 2, 1, 4, 3, 2, 1 ,0, 1]\n",
    "print(\"List Before: \", l1)\n",
    "temp_list = []\n",
    "for i in l1:\n",
    "    if i not in temp_list:\n",
    "        temp_list.append(i)\n",
    "\n",
    "l1 = temp_list\n",
    "\n",
    "print(\"List After removing duplicates: \", l1)"
   ]
  },
  {
   "cell_type": "code",
   "execution_count": 13,
   "metadata": {},
   "outputs": [
    {
     "name": "stdout",
     "output_type": "stream",
     "text": [
      "2 3 1 "
     ]
    }
   ],
   "source": [
    "##Method3:\n",
    "list=[1,2,3,4,2,3,1]\n",
    "l=[]\n",
    "for i in list:\n",
    "    if i not in l:\n",
    "        l.append(i)\n",
    "    else:\n",
    "        print(i, end=' ')"
   ]
  },
  {
   "cell_type": "markdown",
   "metadata": {},
   "source": [
    "### 4..Write a Python program to check a list is empty or not."
   ]
  },
  {
   "cell_type": "code",
   "execution_count": 20,
   "metadata": {},
   "outputs": [
    {
     "name": "stdout",
     "output_type": "stream",
     "text": [
      "Not empty\n"
     ]
    }
   ],
   "source": [
    "##Method1:\n",
    "arr = [1,1,1,1,1,1]\n",
    "print(\"Empty\" if len(arr) == 0 else \"Not empty\")"
   ]
  },
  {
   "cell_type": "code",
   "execution_count": 90,
   "metadata": {},
   "outputs": [
    {
     "name": "stdout",
     "output_type": "stream",
     "text": [
      "Not empty\n"
     ]
    }
   ],
   "source": [
    "##Method2:\n",
    "l1 = [1,1,1,1,1,1]\n",
    "if len(l1) ==0:\n",
    "    print(\"empty\")\n",
    "else:\n",
    "    print(\"Not empty\")"
   ]
  },
  {
   "cell_type": "markdown",
   "metadata": {},
   "source": [
    "### 5.Write a Python program to print a specified list after removing the 0th, 4th and 5th elements."
   ]
  },
  {
   "cell_type": "code",
   "execution_count": 94,
   "metadata": {},
   "outputs": [
    {
     "data": {
      "text/plain": [
       "[1, 2, 3, 4, 6, 7, 8, 9, 10, 11, 12, 13, 14, 15]"
      ]
     },
     "execution_count": 94,
     "metadata": {},
     "output_type": "execute_result"
    }
   ],
   "source": [
    "li=[0,1,2,3,4,5,6,7,8,9,10,11,12,13,14,15]\n",
    "del li[0]\n",
    "del li[4]\n",
    "del li[5]\n",
    "li"
   ]
  },
  {
   "cell_type": "markdown",
   "metadata": {},
   "source": [
    "### 6. WAP to remove duplicates and put tuple except last value\n",
    "##### input : (\"a\",\"b\",\"c\",\"b\",\"a\")\n",
    "##### output : (\"a\",\"b\")"
   ]
  },
  {
   "cell_type": "code",
   "execution_count": 105,
   "metadata": {},
   "outputs": [
    {
     "data": {
      "text/plain": [
       "('a', 'b')"
      ]
     },
     "execution_count": 105,
     "metadata": {},
     "output_type": "execute_result"
    }
   ],
   "source": [
    "t = (\"a\",\"b\",\"c\",\"b\",\"a\")\n",
    "t1  = []\n",
    "for i in t:\n",
    "    if i not in t1:\n",
    "        t1.append(i)\n",
    "tuple(t1[:-1])"
   ]
  },
  {
   "cell_type": "markdown",
   "metadata": {},
   "source": [
    "### 7.write a program to replace element by given element\n",
    "##### input : (\"hi\",\"hello\",\"Sorry\",\"bye\")\n",
    "##### element : Sorry\n",
    "##### new Element : Good\n",
    "##### ouput : (\"hi\",\"hello\",\"Good\",\"bye\")"
   ]
  },
  {
   "cell_type": "code",
   "execution_count": 104,
   "metadata": {},
   "outputs": [
    {
     "data": {
      "text/plain": [
       "['hi', 'hello', 'Good', 'bye']"
      ]
     },
     "execution_count": 104,
     "metadata": {},
     "output_type": "execute_result"
    }
   ],
   "source": [
    "li = [\"hi\",\"hello\",\"Sorry\",\"bye\"]\n",
    "li[2] = \"Good\"\n",
    "li[]\n",
    "li"
   ]
  },
  {
   "cell_type": "markdown",
   "metadata": {},
   "source": [
    "### =>AT HOME TASK:\n",
    "### Write a Python function that takes two lists and returns True if they have at least one common member."
   ]
  },
  {
   "cell_type": "code",
   "execution_count": 83,
   "metadata": {},
   "outputs": [
    {
     "name": "stdout",
     "output_type": "stream",
     "text": [
      "True\n",
      "None\n"
     ]
    }
   ],
   "source": [
    "##Method1\n",
    "def common_data(list1, list2):  \n",
    "     result = False  \n",
    "     for x in list1:  \n",
    "         for y in list2:  \n",
    "             if x == y:  \n",
    "                 result = True  \n",
    "                 return result  \n",
    "print(common_data([1,2,3,4,5], [5,7,5,5]))  \n",
    "print(common_data([1,2,3,4,5], [6,0,0,0]))  "
   ]
  },
  {
   "cell_type": "code",
   "execution_count": 98,
   "metadata": {},
   "outputs": [
    {
     "name": "stdout",
     "output_type": "stream",
     "text": [
      "Enter no of elements in list-1: 4\n",
      "Enter no of elements in list-2: 3\n",
      "Enter element in list-1 : 4\n",
      "Enter element in list-1 : 3\n",
      "Enter element in list-1 : 2\n",
      "Enter element in list-1 : 1\n",
      "List-1 :  [4, 3, 2, 1]\n",
      "Enter element in list-2 : 1\n",
      "Enter element in list-2 : 2\n",
      "Enter element in list-2 : 3\n",
      "List-2 :  [1, 2, 3]\n",
      "\n",
      "\n",
      "True\n"
     ]
    }
   ],
   "source": [
    "##Method2\n",
    "a = int(input(\"Enter no of elements in list-1: \"))\n",
    "b = int(input(\"Enter no of elements in list-2: \"))\n",
    "\n",
    "list_1 = []\n",
    "list_2 = []\n",
    "\n",
    "for i in range(a):\n",
    "    c = int(input(\"Enter element in list-1 : \"))\n",
    "    list_1.append(c)\n",
    "print(\"List-1 : \",list_1 )\n",
    "\n",
    "for j in range(b):\n",
    "    d = int(input(\"Enter element in list-2 : \"))\n",
    "    list_2.append(d)\n",
    "print(\"List-2 : \",list_2 )\n",
    "result = False\n",
    "\n",
    "for x in list_1:\n",
    "    for y in list_2:\n",
    "        if x==y:\n",
    "            result=True\n",
    "            \n",
    "print(\"\\n\")\n",
    "print(result)"
   ]
  }
 ],
 "metadata": {
  "kernelspec": {
   "display_name": "Python 3",
   "language": "python",
   "name": "python3"
  },
  "language_info": {
   "codemirror_mode": {
    "name": "ipython",
    "version": 3
   },
   "file_extension": ".py",
   "mimetype": "text/x-python",
   "name": "python",
   "nbconvert_exporter": "python",
   "pygments_lexer": "ipython3",
   "version": "3.7.3"
  }
 },
 "nbformat": 4,
 "nbformat_minor": 2
}
