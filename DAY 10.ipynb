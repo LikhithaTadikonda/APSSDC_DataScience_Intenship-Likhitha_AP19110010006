{
 "cells": [
  {
   "cell_type": "markdown",
   "metadata": {},
   "source": [
    "## DAY 10 TASKS:"
   ]
  },
  {
   "cell_type": "markdown",
   "metadata": {},
   "source": [
    " #### 1.Generate 3-digit OTP from 2 different classes(Mail Class and Phone Class)\n",
    "#### 2.Return 6-digitOTP from both BaseClasses(Super Classes)"
   ]
  },
  {
   "cell_type": "markdown",
   "metadata": {},
   "source": [
    " #### 1.Generate 3-digit OTP from 2 different classes(Mail Class and Phone Class)\n"
   ]
  },
  {
   "cell_type": "code",
   "execution_count": 1,
   "metadata": {},
   "outputs": [
    {
     "name": "stdout",
     "output_type": "stream",
     "text": [
      "OTP generation in the Mail class.\n",
      "OTP generation in the Phone class.\n",
      "OTP generation from both classes\n",
      "996\n",
      "746\n",
      "996746\n"
     ]
    }
   ],
   "source": [
    "#method1\n",
    "import random\n",
    "class Mail():\n",
    "    str1 = \"\"\n",
    "    def __init__(self):\n",
    "        print(\"OTP generation in the Mail class.\")\n",
    "    def otp_1(self):\n",
    "            self.str1 = random.randint(100,999)\n",
    "            print(self.str1)\n",
    "            return str(self.str1)\n",
    "class Phone():\n",
    "    str2 = \"\"\n",
    "    def __init__(self):\n",
    "        print(\"OTP generation in the Phone class.\")\n",
    "    def otp_2(self):\n",
    "        self.str2 = random.randint(100,999)\n",
    "        print(self.str2)\n",
    "        return str(self.str2)\n",
    "class Otp(Mail, Phone):\n",
    "    str = \"\"\n",
    "    def __init__(self):\n",
    "        Mail.__init__(self)\n",
    "        Phone.__init__(self)\n",
    "        print(\"OTP generation from both classes\")\n",
    "    def otp(self):\n",
    "        self.str = Mail.otp_1(self) + Phone.otp_2(self)\n",
    "        return self.str\n",
    "object1 = Otp()\n",
    "print(object1.otp())"
   ]
  },
  {
   "cell_type": "code",
   "execution_count": 5,
   "metadata": {},
   "outputs": [],
   "source": [
    "#method2\n",
    "import random\n",
    "class Mail:\n",
    "    def __init__(self):\n",
    "        self.v1 = 000\n",
    "        self.v2 = 999\n",
    "    def x(self):\n",
    "            print(random.randint(self.v1,self.v2))\n",
    "        \n",
    "class Phone(Mail):\n",
    "    def y(self):\n",
    "        print(random.randint(self.v1,self.v2))"
   ]
  },
  {
   "cell_type": "code",
   "execution_count": 6,
   "metadata": {},
   "outputs": [
    {
     "name": "stdout",
     "output_type": "stream",
     "text": [
      "597\n"
     ]
    }
   ],
   "source": [
    "#3-Digit OTP from Mail Class\n",
    "obj=Mail()\n",
    "obj.x()"
   ]
  },
  {
   "cell_type": "code",
   "execution_count": 7,
   "metadata": {},
   "outputs": [
    {
     "name": "stdout",
     "output_type": "stream",
     "text": [
      "554\n"
     ]
    }
   ],
   "source": [
    "#3-Digit OTP from Phone Class\n",
    "object1=Phone()\n",
    "object1.y()"
   ]
  },
  {
   "cell_type": "markdown",
   "metadata": {},
   "source": [
    "### 2.Return 6-digit OTP from both base classes(superclasses)"
   ]
  },
  {
   "cell_type": "code",
   "execution_count": 2,
   "metadata": {},
   "outputs": [],
   "source": [
    "class Mail:\n",
    "    def __init__(self):\n",
    "        self.x = random.randint(000,999)\n",
    "class Phone:\n",
    "    def __init__(self):\n",
    "        self.y = random.randint(000,999)\n",
    "        \n",
    "class otp(Phone,Mail):\n",
    "    def __init__(self):\n",
    "        Mail.__init__(self)\n",
    "        Phone.__init__(self)\n",
    "        print(\"OTP:\",self.x,self.y)"
   ]
  },
  {
   "cell_type": "code",
   "execution_count": 3,
   "metadata": {},
   "outputs": [
    {
     "name": "stdout",
     "output_type": "stream",
     "text": [
      "OTP: 720 545\n"
     ]
    }
   ],
   "source": [
    "obj1=otp()"
   ]
  }
 ],
 "metadata": {
  "kernelspec": {
   "display_name": "Python 3",
   "language": "python",
   "name": "python3"
  },
  "language_info": {
   "codemirror_mode": {
    "name": "ipython",
    "version": 3
   },
   "file_extension": ".py",
   "mimetype": "text/x-python",
   "name": "python",
   "nbconvert_exporter": "python",
   "pygments_lexer": "ipython3",
   "version": "3.7.3"
  }
 },
 "nbformat": 4,
 "nbformat_minor": 2
}
