{
 "cells": [
  {
   "cell_type": "markdown",
   "metadata": {},
   "source": [
    "# Day 7 Tasks:\n",
    "* 1.Write a pattern to display 4 digit numbers from list1 \n",
    "* 2.Validate a phone number using patterns. Try to do this task using below pattern or your own pattern"
   ]
  },
  {
   "cell_type": "markdown",
   "metadata": {},
   "source": [
    "### 1.Write a pattern to display 4 digit numbers from list1"
   ]
  },
  {
   "cell_type": "code",
   "execution_count": 4,
   "metadata": {},
   "outputs": [
    {
     "name": "stdout",
     "output_type": "stream",
     "text": [
      "1234\n",
      "5678\n",
      "9888\n",
      "8777\n"
     ]
    }
   ],
   "source": [
    "#Method 1\n",
    "import re\n",
    "list1=[1234,5678,987654,54321,11111,12345,67899,9888,8777,100000]\n",
    "\n",
    "for i in list1:\n",
    "    if re.findall('^[0-9]{4}$', str(i)):\n",
    "        print(i)"
   ]
  },
  {
   "cell_type": "code",
   "execution_count": 5,
   "metadata": {},
   "outputs": [
    {
     "name": "stdout",
     "output_type": "stream",
     "text": [
      "['1234', '5678', '9888', '8777']\n"
     ]
    }
   ],
   "source": [
    "#Method 2\n",
    "import re\n",
    "list1 = [1234,5678,987654,54321,11111,12345,67899,9888,8777,100000]\n",
    "\n",
    "# convert int to strings\n",
    "list1 = list(map(str,list1))\n",
    "\n",
    "#pattern for finding 4 digit num's in given list\n",
    "print([i for i in list1 if re.findall('^\\d{4}$',i)])"
   ]
  },
  {
   "cell_type": "markdown",
   "metadata": {},
   "source": [
    "### 2.Validate a phone number using patterns. Try to do this task using below pattern or your own pattern"
   ]
  },
  {
   "cell_type": "code",
   "execution_count": 10,
   "metadata": {},
   "outputs": [
    {
     "name": "stdout",
     "output_type": "stream",
     "text": [
      "['9876543210', '8123456789', '7890123456']\n"
     ]
    }
   ],
   "source": [
    "#Method 1\n",
    "ph_list = ['9876543210', '8123456789', '7890123456', '789654', '1234567890']\n",
    "ph_list = list(map(str,ph_list))\n",
    "print([i for i in ph_list if re.findall('^[6-9]{1}[0-9]{9}', i)])"
   ]
  },
  {
   "cell_type": "code",
   "execution_count": 11,
   "metadata": {},
   "outputs": [
    {
     "name": "stdout",
     "output_type": "stream",
     "text": [
      "9876543210\n",
      "8123456789\n",
      "7890123456\n"
     ]
    }
   ],
   "source": [
    "#Method 2\n",
    "ph_list = ['9876543210', '8123456789', '7890123456', '789654', '1234567890']\n",
    "for i in ph_list:\n",
    "    if re.findall('[6-9]{1}[0-9]{9}$', i):\n",
    "        print(i)"
   ]
  }
 ],
 "metadata": {
  "kernelspec": {
   "display_name": "Python 3",
   "language": "python",
   "name": "python3"
  },
  "language_info": {
   "codemirror_mode": {
    "name": "ipython",
    "version": 3
   },
   "file_extension": ".py",
   "mimetype": "text/x-python",
   "name": "python",
   "nbconvert_exporter": "python",
   "pygments_lexer": "ipython3",
   "version": "3.7.3"
  }
 },
 "nbformat": 4,
 "nbformat_minor": 2
}
