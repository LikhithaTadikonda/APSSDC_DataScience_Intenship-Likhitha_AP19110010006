{
 "cells": [
  {
   "cell_type": "markdown",
   "metadata": {},
   "source": [
    "## DAY-9 TASKS:\n",
    "#### 1.Write a program to Calculate area of\n",
    "* area of circle : pi*(r)^2\n",
    "* area of Triangle : 1/2 baseheight\n",
    "* area of square : Side^2\n",
    "* area of rectangle: l*b"
   ]
  },
  {
   "cell_type": "code",
   "execution_count": 1,
   "metadata": {},
   "outputs": [
    {
     "name": "stdout",
     "output_type": "stream",
     "text": [
      "Enter the radius: 4\n",
      "50.26548245743669\n"
     ]
    }
   ],
   "source": [
    "from math import pi\n",
    "r= int(input(\"Enter the radius: \"))\n",
    "Area = pi*(r*r)\n",
    "print(Area)"
   ]
  },
  {
   "cell_type": "code",
   "execution_count": 2,
   "metadata": {},
   "outputs": [
    {
     "name": "stdout",
     "output_type": "stream",
     "text": [
      "Enter the lenght base: 2\n",
      "Enter the height: 2\n",
      "2.0\n"
     ]
    }
   ],
   "source": [
    "import math\n",
    "b = int(input(\"Enter the lenght base: \"))\n",
    "h = int(input(\"Enter the height: \"))\n",
    "area = (b*h)/2\n",
    "print(area)"
   ]
  },
  {
   "cell_type": "code",
   "execution_count": 3,
   "metadata": {},
   "outputs": [
    {
     "name": "stdout",
     "output_type": "stream",
     "text": [
      "Enter the lenght of side: 5\n",
      "25\n"
     ]
    }
   ],
   "source": [
    "import math\n",
    "s = int(input(\"Enter the lenght of side: \"))\n",
    "area = s*s\n",
    "print(area)"
   ]
  },
  {
   "cell_type": "code",
   "execution_count": 4,
   "metadata": {},
   "outputs": [
    {
     "name": "stdout",
     "output_type": "stream",
     "text": [
      "Enter the lenght: 3\n",
      "Enter the breadth: 6\n",
      "18\n"
     ]
    }
   ],
   "source": [
    "import math\n",
    "l = int(input(\"Enter the lenght: \"))\n",
    "b = int(input(\"Enter the breadth: \"))\n",
    "area = l*b\n",
    "print(area)"
   ]
  },
  {
   "cell_type": "markdown",
   "metadata": {},
   "source": [
    "#### 2.write a program to set your password, if password is correct then speak out welcome to your world, else try again"
   ]
  },
  {
   "cell_type": "code",
   "execution_count": 19,
   "metadata": {},
   "outputs": [
    {
     "name": "stdout",
     "output_type": "stream",
     "text": [
      "Enter your password: likhi\n",
      "Confirm your password: likhi\n"
     ]
    }
   ],
   "source": [
    "import pyttsx3\n",
    "x = input(\"Enter your password: \")\n",
    "y = input(\"Confirm your password: \")\n",
    "if x == y:\n",
    "    spk=pyttsx3.init()\n",
    "    spk.say(\"Welcome to your world\")\n",
    "    spk.runAndWait()\n",
    "else:\n",
    "    spk=pyttsx3.init()\n",
    "    spk.say(\"Try again\")\n",
    "    spk.runAndWait()"
   ]
  },
  {
   "cell_type": "markdown",
   "metadata": {},
   "source": [
    "#### 3.validate 12 digit phone number, +91 9876543202 - valid"
   ]
  },
  {
   "cell_type": "code",
   "execution_count": 24,
   "metadata": {},
   "outputs": [
    {
     "name": "stdout",
     "output_type": "stream",
     "text": [
      "+919876543210\n",
      "+918778585874\n",
      "+918595874778\n"
     ]
    }
   ],
   "source": [
    "#method1\n",
    "import re\n",
    "l2 = ['+919876543210', '+918778585874', '+918595874778', '+9178964554', '+912222225245']\n",
    "for i in l2:\n",
    "    if re.findall('^[+][9][1][6-9]{1}[0-9]{9}$',i):\n",
    "        print(i)"
   ]
  },
  {
   "cell_type": "code",
   "execution_count": 28,
   "metadata": {},
   "outputs": [
    {
     "name": "stdout",
     "output_type": "stream",
     "text": [
      "Enter phone number: +919876543210\n",
      "+919876543210 Is Valid\n"
     ]
    }
   ],
   "source": [
    "#method2\n",
    "s1 = input(\"Enter phone number: \")\n",
    "if re.findall('^[+][9][1][6-9]{1}[0-9]{9}$',s1):\n",
    "        print(s1 , \"Is Valid\")"
   ]
  },
  {
   "cell_type": "markdown",
   "metadata": {},
   "source": [
    "### 4.Write a program in module to enter the data\n",
    "* check the data if it's camelcase print Like (Thumbsup)emoji\n",
    "* else convert the data into camelcase then speakout Successfully converted your data into camel case"
   ]
  },
  {
   "cell_type": "code",
   "execution_count": 31,
   "metadata": {},
   "outputs": [
    {
     "name": "stdout",
     "output_type": "stream",
     "text": [
      "Enter your data: Likhitha\n",
      "👍\n"
     ]
    }
   ],
   "source": [
    "import module2\n",
    "module2.conn_camelcase()"
   ]
  },
  {
   "cell_type": "code",
   "execution_count": 34,
   "metadata": {},
   "outputs": [
    {
     "name": "stdout",
     "output_type": "stream",
     "text": [
      "Enter your data: i am studying at srm university\n",
      "The converted data is: \n",
      "I Am Studying At Srm University\n"
     ]
    }
   ],
   "source": [
    "import module2\n",
    "module2.conn_camelcase()"
   ]
  },
  {
   "cell_type": "code",
   "execution_count": null,
   "metadata": {},
   "outputs": [],
   "source": []
  }
 ],
 "metadata": {
  "kernelspec": {
   "display_name": "Python 3",
   "language": "python",
   "name": "python3"
  },
  "language_info": {
   "codemirror_mode": {
    "name": "ipython",
    "version": 3
   },
   "file_extension": ".py",
   "mimetype": "text/x-python",
   "name": "python",
   "nbconvert_exporter": "python",
   "pygments_lexer": "ipython3",
   "version": "3.7.3"
  }
 },
 "nbformat": 4,
 "nbformat_minor": 2
}
