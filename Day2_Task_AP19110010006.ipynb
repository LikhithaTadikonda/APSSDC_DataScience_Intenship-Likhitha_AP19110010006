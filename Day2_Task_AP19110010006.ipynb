{
 "cells": [
  {
   "cell_type": "code",
   "execution_count": 11,
   "metadata": {},
   "outputs": [
    {
     "data": {
      "text/plain": [
       "'10497'"
      ]
     },
     "execution_count": 11,
     "metadata": {},
     "output_type": "execute_result"
    }
   ],
   "source": [
    "str(ord(\"l\")) + str(ord(\"i\")) + str(ord(\"k\")) + str(ord(\"h\")) + str(ord(\"i\")) + str(ord(\"t\")) \n",
    "str(ord(\"h\")) + str(ord(\"a\"))"
   ]
  },
  {
   "cell_type": "markdown",
   "metadata": {},
   "source": [
    "Name:Likhitha Tadikonda\n",
    "ID: AP19110010006\n",
    "Branch:CSE,3rd year"
   ]
  },
  {
   "cell_type": "markdown",
   "metadata": {},
   "source": [
    "**Day2 Task:**"
   ]
  },
  {
   "cell_type": "markdown",
   "metadata": {},
   "source": [
    "1.Write a program to check wheather the user eligible for vote or no."
   ]
  },
  {
   "cell_type": "markdown",
   "metadata": {},
   "source": [
    "2.Check the given number is positive or negative\n"
   ]
  },
  {
   "cell_type": "markdown",
   "metadata": {},
   "source": [
    "3.check the given number is even or odd if it's even check which is divisible by 4 or not"
   ]
  },
  {
   "cell_type": "markdown",
   "metadata": {},
   "source": [
    "4.write a program to print student grade based on persentage like Distinction,pass or fail"
   ]
  },
  {
   "cell_type": "markdown",
   "metadata": {},
   "source": [
    "5.Check the given year is Leap or not"
   ]
  },
  {
   "cell_type": "markdown",
   "metadata": {},
   "source": [
    "**1. Write a program to check wheather the user eligible for vote or not**"
   ]
  },
  {
   "cell_type": "code",
   "execution_count": 5,
   "metadata": {},
   "outputs": [
    {
     "name": "stdout",
     "output_type": "stream",
     "text": [
      "Enter Your Age: 18\n",
      "You are eligible for vote.\n"
     ]
    }
   ],
   "source": [
    "age =  int(input(\"Enter Your Age: \"))\n",
    "if age>=18:\n",
    "    print(\"You are eligible for vote.\")\n",
    "else :\n",
    "    print(\"You are not eligible to vote.\")"
   ]
  },
  {
   "cell_type": "markdown",
   "metadata": {},
   "source": [
    "**2. Check the given number is positive or negative**"
   ]
  },
  {
   "cell_type": "code",
   "execution_count": 6,
   "metadata": {},
   "outputs": [
    {
     "name": "stdout",
     "output_type": "stream",
     "text": [
      "Enter any number: -4\n",
      "The given number -4.0, is negative\n"
     ]
    }
   ],
   "source": [
    "a = float(input(\"Enter any number: \"))\n",
    "if a>=0:\n",
    "    print(\"The given number {}, is positive\" .format(a))\n",
    "elif a<0:\n",
    "    print(\"The given number {}, is negative\" .format(a))\n",
    "else :\n",
    "    print(\"The given number is zero\" .format(a))"
   ]
  },
  {
   "cell_type": "markdown",
   "metadata": {},
   "source": [
    "**3.To check whether given number is odd or even,and if it's even check will it be divided by 4 or not**"
   ]
  },
  {
   "cell_type": "code",
   "execution_count": 9,
   "metadata": {},
   "outputs": [
    {
     "name": "stdout",
     "output_type": "stream",
     "text": [
      "Enter any number: 4\n",
      "The given number 4,is Even and also divisible by 4\n"
     ]
    }
   ],
   "source": [
    "a = int(input(\"Enter any number: \"))\n",
    "if (a%2==0 and a%4==0):\n",
    "    print(\"The given number {},is Even and also divisible by 4\".format(a))\n",
    "elif(a%2==0 and a%4!=0):\n",
    "    print(\"The given number {},is Even and not divisible by 4\".format(a))\n",
    "else:\n",
    "    print(\"The given number {},is Odd\".format(a))"
   ]
  },
  {
   "cell_type": "markdown",
   "metadata": {},
   "source": [
    "**4. Write a program to print the student gardes based on their percentages like Distinction,pass or fail.**"
   ]
  },
  {
   "cell_type": "code",
   "execution_count": 12,
   "metadata": {},
   "outputs": [
    {
     "name": "stdout",
     "output_type": "stream",
     "text": [
      "Enter sub1 Marks out of 100: 85\n",
      "Enter sub2 Marks out of 100: 94\n",
      "Enter sub3 Marks out of 100: 84\n",
      "Your percentage is 87.67\n",
      "You passed the exam in distinction\n"
     ]
    }
   ],
   "source": [
    "sub1 = float(input(\"Enter sub1 Marks out of 100: \"))\n",
    "sub2  = float(input(\"Enter sub2 Marks out of 100: \"))\n",
    "sub3 = float(input(\"Enter sub3 Marks out of 100: \"))\n",
    "total = sub1 + sub2 + sub3\n",
    "percentage = (total / 300) * 100\n",
    "print(\"Your percentage is {}\".format(round(percentage, 2)))\n",
    "\n",
    "if percentage>=80:\n",
    "    print(\"You passed the exam in distinction\")\n",
    "elif(percentage>=30 and percentage<80):\n",
    "    print(\"You cleared the exam with just pass mark\")\n",
    "else:\n",
    "    print(\"You have failed in the exam\")"
   ]
  },
  {
   "cell_type": "markdown",
   "metadata": {},
   "source": [
    "**5. Write a program to check whether a given year is leap year or not**"
   ]
  },
  {
   "cell_type": "code",
   "execution_count": 14,
   "metadata": {},
   "outputs": [
    {
     "name": "stdout",
     "output_type": "stream",
     "text": [
      "Enter the Year to be checked: 2020\n",
      "2020 is a Leap Year\n"
     ]
    }
   ],
   "source": [
    "Year = int(input(\"Enter the Year to be checked: \"))\n",
    "if (Year%4== 0 and Year%100!=0):             ##leap year is divisible by 4\n",
    "    print(\"{} is a Leap Year\".format(Year))\n",
    "elif (Year%100==0):\n",
    "    print(\"{} is not a Leap Year\".format(Year))\n",
    "elif (Year%400==0):\n",
    "    print(Year, \"is a Leap Year\")\n",
    "else:\n",
    "    print(Year, \"is not a Leap Year\")"
   ]
  },
  {
   "cell_type": "code",
   "execution_count": null,
   "metadata": {},
   "outputs": [],
   "source": []
  }
 ],
 "metadata": {
  "kernelspec": {
   "display_name": "Python 3",
   "language": "python",
   "name": "python3"
  },
  "language_info": {
   "codemirror_mode": {
    "name": "ipython",
    "version": 3
   },
   "file_extension": ".py",
   "mimetype": "text/x-python",
   "name": "python",
   "nbconvert_exporter": "python",
   "pygments_lexer": "ipython3",
   "version": "3.7.3"
  }
 },
 "nbformat": 4,
 "nbformat_minor": 2
}
