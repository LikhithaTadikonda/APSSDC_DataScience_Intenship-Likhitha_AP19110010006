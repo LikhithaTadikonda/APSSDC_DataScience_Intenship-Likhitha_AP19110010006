{
 "cells": [
  {
   "cell_type": "markdown",
   "metadata": {},
   "source": [
    "## Day-8 Task:\n",
    "* Create a function for finding leap years within the given range\n",
    "* Create a function for getting armstrong number in given range\n",
    "* Create a function for getting prime numbers within a given range\n",
    "* Create a function for finding the count of elements in a given string \"Srm University\""
   ]
  },
  {
   "cell_type": "markdown",
   "metadata": {},
   "source": [
    "### 1.Create a function for finding leap years within the given range"
   ]
  },
  {
   "cell_type": "code",
   "execution_count": 2,
   "metadata": {},
   "outputs": [
    {
     "name": "stdout",
     "output_type": "stream",
     "text": [
      "Enter the starting year: 1800\n",
      "Enter the ending year: 2021\n",
      "1804 1808 1812 1816 1820 1824 1828 1832 1836 1840 1844 1848 1852 1856 1860 1864 1868 1872 1876 1880 1884 1888 1892 1896 1904 1908 1912 1916 1920 1924 1928 1932 1936 1940 1944 1948 1952 1956 1960 1964 1968 1972 1976 1980 1984 1988 1992 1996 2000 2004 2008 2012 2016 2020 "
     ]
    }
   ],
   "source": [
    "#METHOD1\n",
    "def leap_year(a):\n",
    "    if (a%4==0 and a%100!=0 or a%400==0):\n",
    "        return True\n",
    "    else:\n",
    "        return False\n",
    "def leap_year_range():\n",
    "    start = int(input(\"Enter the starting year: \"))\n",
    "    end = int(input(\"Enter the ending year: \"))\n",
    "    for i in range(start, end+1):\n",
    "        if leap_year(i) == True:\n",
    "            print(i,end=' ')\n",
    "leap_year_range()"
   ]
  },
  {
   "cell_type": "code",
   "execution_count": 1,
   "metadata": {},
   "outputs": [
    {
     "name": "stdout",
     "output_type": "stream",
     "text": [
      "1804\t1808\t1812\t1816\t1820\t1824\t1828\t1832\t1836\t1840\t1844\t1848\t1852\t1856\t1860\t1864\t1868\t1872\t1876\t1880\t1884\t1888\t1892\t1896\t1904\t1908\t1912\t1916\t1920\t1924\t1928\t1932\t1936\t1940\t1944\t1948\t1952\t1956\t1960\t1964\t1968\t1972\t1976\t1980\t1984\t1988\t1992\t1996\t2000\t2004\t2008\t2012\t2016\t2020\t"
     ]
    }
   ],
   "source": [
    "#METHOD2\n",
    "def leap_year(start,end):\n",
    "    for i in range(start,end):\n",
    "        if (i % 4 == 0 and i % 100 != 0) or (i % 400 == 0):\n",
    "            print(i, end = '\\t')\n",
    "leap_year(1800,2021)"
   ]
  },
  {
   "cell_type": "markdown",
   "metadata": {},
   "source": [
    "### 2.Create a function for getting armstrong number in given range"
   ]
  },
  {
   "cell_type": "code",
   "execution_count": 4,
   "metadata": {},
   "outputs": [
    {
     "name": "stdout",
     "output_type": "stream",
     "text": [
      "Enter the starting number: 100\n",
      "Enter the ending number: 500\n",
      "153\n",
      "370\n",
      "371\n",
      "407\n"
     ]
    }
   ],
   "source": [
    "#METHOD1\n",
    "def armstrong(x, y):\n",
    "    for i in range(x, y+1):\n",
    "        num = i\n",
    "        sum = 0\n",
    "        n = len(str(i))\n",
    "        while(i != 0):\n",
    "            digit = i % 10\n",
    "            sum = sum + digit ** n\n",
    "            i = i//10\n",
    "        if num == sum:\n",
    "            print(num)\n",
    "start = int(input(\"Enter the starting number: \"))\n",
    "final = int(input(\"Enter the ending number: \"))\n",
    "armstrong(start , final)"
   ]
  },
  {
   "cell_type": "code",
   "execution_count": 5,
   "metadata": {},
   "outputs": [
    {
     "name": "stdout",
     "output_type": "stream",
     "text": [
      "370\n",
      "371\n",
      "407\n"
     ]
    }
   ],
   "source": [
    "#METHOD2\n",
    "def armstrong(start,end):\n",
    "    for num in range(start,end + 1):  \n",
    "        sum = 0  \n",
    "        temp = num  \n",
    "        while temp > 0:  \n",
    "            digit = temp % 10  \n",
    "            sum += digit ** 3  \n",
    "            temp //= 10  \n",
    "        if num == sum:  \n",
    "            print(num) \n",
    "            \n",
    "armstrong(200,1000)"
   ]
  },
  {
   "cell_type": "markdown",
   "metadata": {},
   "source": [
    "### 3.Create a function for getting prime numbers within a given range"
   ]
  },
  {
   "cell_type": "code",
   "execution_count": 9,
   "metadata": {},
   "outputs": [
    {
     "name": "stdout",
     "output_type": "stream",
     "text": [
      "Enter the starting number: 1\n",
      "Enter the ending number: 20\n",
      "2\n",
      "3\n",
      "5\n",
      "7\n",
      "11\n",
      "13\n",
      "17\n",
      "19\n"
     ]
    }
   ],
   "source": [
    "#Method1\n",
    "def prime_number(x, y):\n",
    "    for num in range(x, y+1):\n",
    "        if num>1:\n",
    "            for i in range(2,num):\n",
    "                if (num % i) == 0:\n",
    "                    break\n",
    "            else:\n",
    "                print(num)\n",
    "start = int(input(\"Enter the starting number: \"))\n",
    "final = int(input(\"Enter the ending number: \"))\n",
    "prime_number(start,final)\n"
   ]
  },
  {
   "cell_type": "code",
   "execution_count": 10,
   "metadata": {},
   "outputs": [
    {
     "name": "stdout",
     "output_type": "stream",
     "text": [
      "2\n",
      "3\n",
      "5\n",
      "7\n",
      "11\n",
      "13\n",
      "17\n",
      "19\n"
     ]
    }
   ],
   "source": [
    "#Method2: using count\n",
    "def prime(start,end):\n",
    "    def prime1 (n):\n",
    "        count=0\n",
    "        for i in range(1,n+1):\n",
    "            if n%i==0:\n",
    "                count+=1\n",
    "        if count==2:\n",
    "            print(n)\n",
    "    for i in range(start,end+1):\n",
    "        prime1(i)\n",
    "prime(1,20)"
   ]
  },
  {
   "cell_type": "markdown",
   "metadata": {},
   "source": [
    "### 4.Create a function for finding the count of elements in a given string \"Srm University\""
   ]
  },
  {
   "cell_type": "code",
   "execution_count": 11,
   "metadata": {},
   "outputs": [
    {
     "name": "stdout",
     "output_type": "stream",
     "text": [
      "Enter a string: Srm University\n",
      "The total count of elements is: 14\n"
     ]
    }
   ],
   "source": [
    "def count_elements(string):\n",
    "    sum = 0\n",
    "    for i in string:\n",
    "        sum = sum + 1\n",
    "    return sum\n",
    "x = input(\"Enter a string: \")\n",
    "print(\"The total count of elements is:\",count_elements(x))"
   ]
  },
  {
   "cell_type": "code",
   "execution_count": 12,
   "metadata": {},
   "outputs": [
    {
     "name": "stdout",
     "output_type": "stream",
     "text": [
      "{'S': 1, 'r': 2, 'm': 1, ' ': 1, 'U': 1, 'n': 1, 'i': 2, 'v': 1, 'e': 1, 's': 1, 't': 1, 'y': 1}\n"
     ]
    }
   ],
   "source": [
    "def count_string(s):\n",
    "    res={}\n",
    "    for i in s:\n",
    "        if i in res:\n",
    "            res[i]+=1\n",
    "        else:\n",
    "            res[i]=1\n",
    "    return res\n",
    "    \n",
    "print(count_string(\"Srm University\"))"
   ]
  },
  {
   "cell_type": "code",
   "execution_count": null,
   "metadata": {},
   "outputs": [],
   "source": []
  }
 ],
 "metadata": {
  "kernelspec": {
   "display_name": "Python 3",
   "language": "python",
   "name": "python3"
  },
  "language_info": {
   "codemirror_mode": {
    "name": "ipython",
    "version": 3
   },
   "file_extension": ".py",
   "mimetype": "text/x-python",
   "name": "python",
   "nbconvert_exporter": "python",
   "pygments_lexer": "ipython3",
   "version": "3.7.3"
  }
 },
 "nbformat": 4,
 "nbformat_minor": 2
}
